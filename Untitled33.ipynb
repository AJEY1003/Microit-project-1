{
  "nbformat": 4,
  "nbformat_minor": 0,
  "metadata": {
    "colab": {
      "provenance": [],
      "authorship_tag": "ABX9TyOW4Y4jOdAFCEsPeJorBQL6",
      "include_colab_link": true
    },
    "kernelspec": {
      "name": "python3",
      "display_name": "Python 3"
    },
    "language_info": {
      "name": "python"
    }
  },
  "cells": [
    {
      "cell_type": "markdown",
      "metadata": {
        "id": "view-in-github",
        "colab_type": "text"
      },
      "source": [
        "<a href=\"https://colab.research.google.com/github/AJEY1003/Microit-project-1/blob/main/Untitled33.ipynb\" target=\"_parent\"><img src=\"https://colab.research.google.com/assets/colab-badge.svg\" alt=\"Open In Colab\"/></a>"
      ]
    },
    {
      "cell_type": "code",
      "execution_count": 3,
      "metadata": {
        "colab": {
          "base_uri": "https://localhost:8080/"
        },
        "id": "LQPI7I98hyg1",
        "outputId": "21eef7a3-e272-4dae-8f38-42f90bca9eb7"
      },
      "outputs": [
        {
          "output_type": "stream",
          "name": "stdout",
          "text": [
            "\n",
            "Predictions vs Actual:\n",
            "Text: It was okay, nothing special.\n",
            "Actual: negative | Predicted: negative\n",
            "\n",
            "Text: Terrible experience. I hate it.\n",
            "Actual: neutral | Predicted: negative\n",
            "\n",
            "Text: I love this product! It's amazing.\n",
            "Actual: positive | Predicted: negative\n",
            "\n",
            "Confusion Matrix:\n",
            " [[1 0 0]\n",
            " [1 0 0]\n",
            " [1 0 0]]\n",
            "Classification Report:\n",
            "               precision    recall  f1-score   support\n",
            "\n",
            "    negative       0.33      1.00      0.50         1\n",
            "     neutral       1.00      0.00      0.00         1\n",
            "    positive       1.00      0.00      0.00         1\n",
            "\n",
            "    accuracy                           0.33         3\n",
            "   macro avg       0.78      0.33      0.17         3\n",
            "weighted avg       0.78      0.33      0.17         3\n",
            "\n",
            "Accuracy: 0.3333333333333333\n"
          ]
        },
        {
          "output_type": "stream",
          "name": "stderr",
          "text": [
            "[nltk_data] Downloading package stopwords to /root/nltk_data...\n",
            "[nltk_data]   Package stopwords is already up-to-date!\n"
          ]
        }
      ],
      "source": [
        "\n",
        "import pandas as pd\n",
        "import numpy as np\n",
        "import matplotlib.pyplot as plt\n",
        "import seaborn as sns\n",
        "from sklearn.model_selection import train_test_split\n",
        "from sklearn.feature_extraction.text import CountVectorizer\n",
        "from sklearn.naive_bayes import MultinomialNB\n",
        "from sklearn.metrics import classification_report, confusion_matrix, accuracy_score\n",
        "import nltk\n",
        "from nltk.corpus import stopwords\n",
        "import re\n",
        "import warnings\n",
        "warnings.filterwarnings('ignore')\n",
        "\n",
        "# Download NLTK stopwords\n",
        "nltk.download('stopwords')\n",
        "\n",
        "# Sample dataset (you can replace this with real data)\n",
        "data = {\n",
        "    'text': [\n",
        "        \"I love this product! It's amazing.\",\n",
        "        \"Terrible experience. I hate it.\",\n",
        "        \"It was okay, nothing special.\",\n",
        "        \"Absolutely fantastic service!\",\n",
        "        \"Worst ever. Completely disappointed.\",\n",
        "        \"I really enjoyed using this.\",\n",
        "        \"Not worth the money.\",\n",
        "        \"Pretty decent, could be better.\",\n",
        "        \"Excellent quality and fast delivery.\",\n",
        "        \"Extremely poor performance.\"\n",
        "    ],\n",
        "    'sentiment': ['positive', 'negative', 'neutral', 'positive', 'negative',\n",
        "                  'positive', 'negative', 'neutral', 'positive', 'negative']\n",
        "}\n",
        "\n",
        "df = pd.DataFrame(data)\n",
        "\n",
        "# Preprocessing\n",
        "def preprocess_text(text):\n",
        "    text = re.sub(r'[^a-zA-Z]', ' ', text)\n",
        "    text = text.lower()\n",
        "    text = text.split()\n",
        "    stop_words = set(stopwords.words('english'))\n",
        "    text = [word for word in text if word not in stop_words]\n",
        "    return ' '.join(text)\n",
        "\n",
        "# Apply preprocessing\n",
        "df['clean_text'] = df['text'].apply(preprocess_text)\n",
        "\n",
        "# Drop rows with empty clean_text\n",
        "df = df[df['clean_text'].str.strip().astype(bool)]\n",
        "\n",
        "# Feature Extraction\n",
        "vectorizer = CountVectorizer()\n",
        "X = vectorizer.fit_transform(df['clean_text']).toarray()\n",
        "y = df['sentiment'].values\n",
        "\n",
        "# Split data\n",
        "X_train, X_test, y_train, y_test = train_test_split(X, y, test_size=0.3, random_state=42, stratify=y)\n",
        "\n",
        "# Model\n",
        "model = MultinomialNB()\n",
        "model.fit(X_train, y_train)\n",
        "\n",
        "# Predictions\n",
        "y_pred = model.predict(X_test)\n",
        "\n",
        "# Display predictions with actual labels\n",
        "print(\"\\nPredictions vs Actual:\")\n",
        "for text, actual, pred in zip(df['text'].iloc[y_test.argsort()], y_test[y_test.argsort()], y_pred[y_test.argsort()]):\n",
        "    print(f\"Text: {text}\\nActual: {actual} | Predicted: {pred}\\n\")\n",
        "\n",
        "# Evaluation\n",
        "print(\"Confusion Matrix:\\n\", confusion_matrix(y_test, y_pred))\n",
        "print(\"Classification Report:\\n\", classification_report(y_test, y_pred, zero_division=1))\n",
        "print(\"Accuracy:\", accuracy_score(y_test, y_pred))\n"
      ]
    },
    {
      "cell_type": "code",
      "source": [],
      "metadata": {
        "id": "e5l0CSLth1Uw"
      },
      "execution_count": null,
      "outputs": []
    }
  ]
}